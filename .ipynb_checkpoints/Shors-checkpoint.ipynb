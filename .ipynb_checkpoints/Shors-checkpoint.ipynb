{
 "cells": [
  {
   "cell_type": "markdown",
   "id": "cd91e23f-c1ae-45e1-87c2-e971f278bb94",
   "metadata": {},
   "source": [
    "## Shor's Algorithm\n",
    "\n",
    "In this notebook, Shor's algorithm is implemented for an n digit number using m qubits. The implementation has several stages:\n",
    "\n",
    "- Classical attempt to factor N\n",
    "- Quantum Order-Finding Subroutine\n",
    "    - Quantum Phase Estimation\n",
    "    - Continued Fractions Algorithm\n",
    " \n",
    "We will start with the classical attempt to factor N, which consists of Euclid's algorithm and an evenness check. We select some random integer a for $2 ≤ a < N$. If a and N share a non-trivial (not equal to 1) factor, then we have factored N."
   ]
  },
  {
   "cell_type": "code",
   "execution_count": 2,
   "id": "40212261-fd4e-4221-978e-d45d196dd82b",
   "metadata": {},
   "outputs": [],
   "source": [
    "import numpy as np\n",
    "import warnings\n",
    "warnings.filterwarnings('ignore')\n",
    "%matplotlib inline\n",
    "import matplotlib.pyplot as plt\n",
    "from qiskit import BasicAer, IBMQ, transpile\n",
    "from qiskit import QuantumCircuit, ClassicalRegister, QuantumRegister, execute\n",
    "from qiskit.tools.visualization import plot_histogram\n",
    "from qiskit.circuit.library import QFT\n",
    "import typing"
   ]
  },
  {
   "cell_type": "code",
   "execution_count": 3,
   "id": "9ab3ba0c-58c7-4bd1-b2c4-77ee9de2f5c6",
   "metadata": {},
   "outputs": [],
   "source": [
    "# classical functions\n",
    "\n",
    "def lin_expr(high, low):\n",
    "    a = high // low\n",
    "    b = high - (a * low)\n",
    "    #print(str(high) + \" = \" + str(a) + \" * \" + str(low) + \" + \" + str(b))\n",
    "    return low, b \n",
    "\n",
    "def euclid(integers: typing.List[int]) -> int:\n",
    "    \"\"\"\n",
    "    takes any size list of integers, returns the greatest common factor of\n",
    "    all integers.\n",
    "\n",
    "    parameters:\n",
    "    - integers: a list of positive integers\n",
    "    \"\"\"\n",
    "    num_ints = len(integers)\n",
    "    sorted_ints = [abs(x) for x in integers]\n",
    "    sorted_ints = sorted(sorted_ints) # sorted from least to greatest\n",
    "    ls1 = 0 # where we draw from the equation intY = A*intX + B\n",
    "    rs1 = 0 #                                ls1  = rs1    + rs2\n",
    "    rs2 = 0\n",
    "    \n",
    "    if (num_ints <= 1):\n",
    "        print(\"Invalid input for gcd function.\")\n",
    "        return\n",
    "    else:\n",
    "        first_int = sorted_ints.pop(0)\n",
    "        for int in sorted_ints:\n",
    "            rs1 = int\n",
    "            rs2 = first_int\n",
    "            while (rs2 != 0):\n",
    "                rs1, rs2 = lin_expr(rs1, rs2)\n",
    "            first_int = rs1\n",
    "        return first_int\n",
    "\n",
    "def get_random_int(N):\n",
    "    \"\"\"\n",
    "    takes a large two prime product N, returns a random integer\n",
    "    a where 2 ≤ a < N\n",
    "\n",
    "    parameters:\n",
    "    - N: a large product of two prime numbers\n",
    "    \"\"\"\n",
    "    random_integer = np.random.randint(low=2, high=N)\n",
    "    return random_integer"
   ]
  },
  {
   "cell_type": "code",
   "execution_count": 4,
   "id": "bec8714d-cb2e-4821-8a44-2d899cdc0aa8",
   "metadata": {},
   "outputs": [
    {
     "name": "stdout",
     "output_type": "stream",
     "text": [
      "a = 3\n",
      "gcd(3,15) = 3\n"
     ]
    }
   ],
   "source": [
    "# numbers which are factors of n\n",
    "p = 3\n",
    "q = 5\n",
    "\n",
    "# multiply together to get N\n",
    "N = p * q\n",
    "\n",
    "# begin classical stage 1\n",
    "a = get_random_int(N)\n",
    "print(f'a = {a}')\n",
    "\n",
    "gcd = euclid([a, N])\n",
    "print(f'gcd({a},{N}) = {gcd}')\n"
   ]
  },
  {
   "cell_type": "markdown",
   "id": "d44e0e9d-a822-4243-8a61-5efb5d4bfe90",
   "metadata": {},
   "source": [
    "## Next Steps: Quantum Order Finding Subroutine\n",
    "\n",
    "In the next section, we will define a circuit which is capable of computing the inverse quantum fourier transform of an n bit register of qubits."
   ]
  },
  {
   "cell_type": "code",
   "execution_count": 9,
   "id": "3a84acc2-e9cf-4e1d-b177-1dbe5b7e920c",
   "metadata": {},
   "outputs": [
    {
     "data": {
      "text/html": [
       "<pre style=\"word-wrap: normal;white-space: pre;background: #fff0;line-height: 1.1;font-family: &quot;Courier New&quot;,Courier,monospace\">     ┌────────────┐\n",
       "q_0: ┤0           ├\n",
       "     │            │\n",
       "q_1: ┤1           ├\n",
       "     │            │\n",
       "q_2: ┤2 QFT^-1_dg ├\n",
       "     │            │\n",
       "q_3: ┤3           ├\n",
       "     │            │\n",
       "q_4: ┤4           ├\n",
       "     └────────────┘</pre>"
      ],
      "text/plain": [
       "     ┌────────────┐\n",
       "q_0: ┤0           ├\n",
       "     │            │\n",
       "q_1: ┤1           ├\n",
       "     │            │\n",
       "q_2: ┤2 QFT^-1_dg ├\n",
       "     │            │\n",
       "q_3: ┤3           ├\n",
       "     │            │\n",
       "q_4: ┤4           ├\n",
       "     └────────────┘"
      ]
     },
     "execution_count": 9,
     "metadata": {},
     "output_type": "execute_result"
    }
   ],
   "source": [
    "def int_to_binlist(num, size):\n",
    "    list = np.zeros(size)\n",
    "    list[num - 1] = 1\n",
    "    return list\n",
    "\n",
    "def initialize_circuit(registerA, size):\n",
    "    \"\"\"\n",
    "    Takes a integer, returns a quantum circuit component\n",
    "    which has been initialized to the state represented by the\n",
    "    binary form of this integer.\n",
    "\n",
    "    parameters:\n",
    "    - registerA: the integer which represents the initialized quantum state of registerA\n",
    "    \"\"\"\n",
    "    \n",
    "    state = int_to_binlist(registerA, size)\n",
    "    circ = QuantumCircuit(len(state))\n",
    "    circ.initialize(state, [0, 1])\n",
    "    return circ\n",
    "\n",
    "\n",
    "n = 5 # number of qubits in register A\n",
    "approximation = 1\n",
    "name = 'QFT^-1'\n",
    "\n",
    "inv_qft_circuit = QFT(num_qubits=n, approximation_degree=approximation, inverse=True, insert_barriers=True, name=name)\n",
    "\n",
    "inv_qft_circuit.draw()\n",
    "\n"
   ]
  },
  {
   "cell_type": "code",
   "execution_count": null,
   "id": "9be74436-7b5c-46ff-8848-df3d6429ffe5",
   "metadata": {},
   "outputs": [],
   "source": [
    "def initialize_circuit(registerA):\n",
    "    \"\"\"\n",
    "    Takes a list of single digit integers 1 or 0, returns a quantum circuit component\n",
    "    which has been initialized to the state represented by the list.\n",
    "\n",
    "    parameters:\n",
    "    - registerA: a list of single 1s or 0s representing the initial state of a quantum circuit\n",
    "    \"\"\"\n",
    "    state = registerA\n",
    "    circ = QuantumCircuit(len(state))\n",
    "    circ.initialize(state, [0, 1])\n",
    "    return circ\n"
   ]
  }
 ],
 "metadata": {
  "kernelspec": {
   "display_name": "Python 3 (ipykernel)",
   "language": "python",
   "name": "python3"
  },
  "language_info": {
   "codemirror_mode": {
    "name": "ipython",
    "version": 3
   },
   "file_extension": ".py",
   "mimetype": "text/x-python",
   "name": "python",
   "nbconvert_exporter": "python",
   "pygments_lexer": "ipython3",
   "version": "3.9.18"
  }
 },
 "nbformat": 4,
 "nbformat_minor": 5
}
