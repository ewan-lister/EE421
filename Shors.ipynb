{
 "cells": [
  {
   "cell_type": "markdown",
   "id": "cd91e23f-c1ae-45e1-87c2-e971f278bb94",
   "metadata": {},
   "source": [
    "## Shor's Algorithm\n",
    "\n",
    "In this notebook, Shor's algorithm is implemented for an n digit number using m qubits. The implementation has several stages:\n",
    "\n",
    "- Classical attempt to factor N\n",
    "- Quantum Order-Finding Subroutine\n",
    "    - Quantum Phase Estimation\n",
    "    - Continued Fractions Algorithm\n",
    " \n",
    "We will start with the classical attempt to factor N, which consists of Euclid's algorithm and an evenness check. We select some random integer a for $2 ≤ a < N$. If a and N share a non-trivial (not equal to 1) factor, then we have factored N."
   ]
  },
  {
   "cell_type": "code",
   "execution_count": 1,
   "id": "40212261-fd4e-4221-978e-d45d196dd82b",
   "metadata": {},
   "outputs": [
    {
     "name": "stdout",
     "output_type": "stream",
     "text": [
      "Requirement already satisfied: pylatexenc in /Users/ewanlister/miniconda3/envs/qc/lib/python3.9/site-packages (2.10)\n"
     ]
    }
   ],
   "source": [
    "import numpy as np\n",
    "import warnings\n",
    "warnings.filterwarnings('ignore')\n",
    "%matplotlib inline\n",
    "import matplotlib.pyplot as plt\n",
    "from qiskit import BasicAer, IBMQ\n",
    "from qiskit import QuantumCircuit, ClassicalRegister, QuantumRegister, execute\n",
    "from qiskit.tools.visualization import plot_histogram\n",
    "import typing"
   ]
  },
  {
   "cell_type": "code",
   "execution_count": 9,
   "id": "9ab3ba0c-58c7-4bd1-b2c4-77ee9de2f5c6",
   "metadata": {},
   "outputs": [],
   "source": [
    "# classical functions\n",
    "\n",
    "def lin_expr(high, low):\n",
    "    a = high // low\n",
    "    b = high - (a * low)\n",
    "    #print(str(high) + \" = \" + str(a) + \" * \" + str(low) + \" + \" + str(b))\n",
    "    return low, b \n",
    "\n",
    "def euclid(integers: typing.List[int]) -> int:\n",
    "    \"\"\"\n",
    "    takes any size list of integers, returns the greatest common factor of\n",
    "    all integers.\n",
    "\n",
    "    parameters:\n",
    "    - integers: a list of positive integers\n",
    "    \"\"\"\n",
    "    num_ints = len(integers)\n",
    "    sorted_ints = [abs(x) for x in integers]\n",
    "    sorted_ints = sorted(sorted_ints) # sorted from least to greatest\n",
    "    ls1 = 0 # where we draw from the equation intY = A*intX + B\n",
    "    rs1 = 0 #                                ls1  = rs1    + rs2\n",
    "    rs2 = 0\n",
    "    \n",
    "    if (num_ints <= 1):\n",
    "        print(\"Invalid input for gcd function.\")\n",
    "        return\n",
    "    else:\n",
    "        first_int = sorted_ints.pop(0)\n",
    "        for int in sorted_ints:\n",
    "            rs1 = int\n",
    "            rs2 = first_int\n",
    "            while (rs2 != 0):\n",
    "                rs1, rs2 = lin_expr(rs1, rs2)\n",
    "            first_int = rs1\n",
    "        return first_int\n",
    "\n",
    "def get_random_int(N):\n",
    "    \"\"\"\n",
    "    takes a large two prime product N, returns a random integer\n",
    "    a where 2 ≤ a < N\n",
    "\n",
    "    parameters:\n",
    "    - N: a large product of two prime numbers\n",
    "    \"\"\"\n",
    "    random_integer = np.random.randint(low=2, high=N)\n",
    "    return random_integer"
   ]
  },
  {
   "cell_type": "code",
   "execution_count": 12,
   "id": "bec8714d-cb2e-4821-8a44-2d899cdc0aa8",
   "metadata": {},
   "outputs": [
    {
     "name": "stdout",
     "output_type": "stream",
     "text": [
      "a = 13\n",
      "gcd(13,15) = 1\n"
     ]
    }
   ],
   "source": [
    "# numbers which are factors of n\n",
    "p = 3\n",
    "q = 5\n",
    "\n",
    "# multiply together to get N\n",
    "N = p * q\n",
    "\n",
    "# begin classical stage 1\n",
    "a = get_random_int(N)\n",
    "print(f'a = {a}')\n",
    "\n",
    "gcd = euclid([a, N])\n",
    "print(f'gcd({a},{N}) = {gcd}')\n"
   ]
  },
  {
   "cell_type": "code",
   "execution_count": null,
   "id": "182a427c-6ad2-48e4-a174-9109c72ab61c",
   "metadata": {},
   "outputs": [],
   "source": []
  }
 ],
 "metadata": {
  "kernelspec": {
   "display_name": "Python 3 (ipykernel)",
   "language": "python",
   "name": "python3"
  },
  "language_info": {
   "codemirror_mode": {
    "name": "ipython",
    "version": 3
   },
   "file_extension": ".py",
   "mimetype": "text/x-python",
   "name": "python",
   "nbconvert_exporter": "python",
   "pygments_lexer": "ipython3",
   "version": "3.9.18"
  }
 },
 "nbformat": 4,
 "nbformat_minor": 5
}
